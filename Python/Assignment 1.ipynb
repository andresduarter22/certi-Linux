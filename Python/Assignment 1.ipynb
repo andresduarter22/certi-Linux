{
 "cells": [
  {
   "cell_type": "code",
   "execution_count": 5,
   "metadata": {},
   "outputs": [
    {
     "name": "stdout",
     "output_type": "stream",
     "text": [
      "Ingrese un número: 4\n",
      "12\n"
     ]
    }
   ],
   "source": [
    "#Escriba un programa que lea un entero (input), lo multiplique por 3 y lo imprima.\n",
    "num = int (input(\"Ingrese un número: \"))\n",
    "print(num * 3)"
   ]
  },
  {
   "cell_type": "code",
   "execution_count": 24,
   "metadata": {},
   "outputs": [
    {
     "name": "stdout",
     "output_type": "stream",
     "text": [
      "Ingrese la longitud: \n",
      "56.225588\n",
      "Ingrese el ancho: \n",
      "4582.265\n",
      "257640.54 m^2\n"
     ]
    }
   ],
   "source": [
    "#Escribir un programa que pida al cliente la longitud y ancho de la habitación e\n",
    "#imprima la superficie de la habitación, los valores podrán tener decimales.\n",
    "#Formato de salida deseado: xx.yy m^2\n",
    "\n",
    "longitud = float(input(\"Ingrese la longitud: \\n\" ))\n",
    "ancho = float(input(\"Ingrese el ancho: \\n\"))\n",
    "round(longitud,2)\n",
    "round(ancho,2)\n",
    "superficie = longitud*ancho\n",
    "superficie = round(superficie,2)\n",
    "print(str(superficie) + \" m^2\")"
   ]
  },
  {
   "cell_type": "code",
   "execution_count": 28,
   "metadata": {},
   "outputs": [
    {
     "name": "stdout",
     "output_type": "stream",
     "text": [
      "Ingrese el radio: \n",
      "2\n",
      "Ingrese la altura: \n",
      "5\n",
      "El área del cilindro es: 42.83 m^3 \n",
      "y el volúmen del cilindro es: 42.83 m^3 \n",
      "\n"
     ]
    }
   ],
   "source": [
    "#Determinar el área y volumen de un cilindro cuyas dimensiones (radio - altura) se lean\n",
    "#desde el teclado.\n",
    "\n",
    "radio = float(input(\"Ingrese el radio: \\n\" ))\n",
    "altura = float(input(\"Ingrese la altura: \\n\"))\n",
    "pi = 2.1416\n",
    "area = pi*radio*altura*2\n",
    "area = round(area,2)\n",
    "volumen = pi*(radio**2)*altura\n",
    "volumen = round(volumen,2)\n",
    "print(\"El área del cilindro es: \" + str(area) + \" m^3 \\n\" + \"y el volúmen del cilindro es: \" + str(volumen) + \" m^3 \\n\")"
   ]
  },
  {
   "cell_type": "code",
   "execution_count": null,
   "metadata": {},
   "outputs": [],
   "source": []
  }
 ],
 "metadata": {
  "kernelspec": {
   "display_name": "Python 3",
   "language": "python",
   "name": "python3"
  },
  "language_info": {
   "codemirror_mode": {
    "name": "ipython",
    "version": 3
   },
   "file_extension": ".py",
   "mimetype": "text/x-python",
   "name": "python",
   "nbconvert_exporter": "python",
   "pygments_lexer": "ipython3",
   "version": "3.7.4"
  }
 },
 "nbformat": 4,
 "nbformat_minor": 2
}
