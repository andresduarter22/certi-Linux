{
 "cells": [
  {
   "cell_type": "code",
   "execution_count": 5,
   "metadata": {},
   "outputs": [
    {
     "name": "stdout",
     "output_type": "stream",
     "text": [
      "Ingrese un número: 4\n",
      "12\n"
     ]
    }
   ],
   "source": [
    "#1.Escriba un programa que lea un entero (input), lo multiplique por 3 y lo imprima.\n",
    "num = int (input(\"Ingrese un número: \"))\n",
    "print(num * 3)"
   ]
  },
  {
   "cell_type": "code",
   "execution_count": 24,
   "metadata": {},
   "outputs": [
    {
     "name": "stdout",
     "output_type": "stream",
     "text": [
      "Ingrese la longitud: \n",
      "56.225588\n",
      "Ingrese el ancho: \n",
      "4582.265\n",
      "257640.54 m^2\n"
     ]
    }
   ],
   "source": [
    "#2.Escribir un programa que pida al cliente la longitud y ancho de la habitación e\n",
    "#imprima la superficie de la habitación, los valores podrán tener decimales.\n",
    "#Formato de salida deseado: xx.yy m^2\n",
    "\n",
    "longitud = float(input(\"Ingrese la longitud: \\n\" ))\n",
    "ancho = float(input(\"Ingrese el ancho: \\n\"))\n",
    "round(longitud,2)\n",
    "round(ancho,2)\n",
    "superficie = longitud*ancho\n",
    "superficie = round(superficie,2)\n",
    "print(str(superficie) + \" m^2\")"
   ]
  },
  {
   "cell_type": "code",
   "execution_count": 28,
   "metadata": {},
   "outputs": [
    {
     "name": "stdout",
     "output_type": "stream",
     "text": [
      "Ingrese el radio: \n",
      "2\n",
      "Ingrese la altura: \n",
      "5\n",
      "El área del cilindro es: 42.83 m^3 \n",
      "y el volúmen del cilindro es: 42.83 m^3 \n",
      "\n"
     ]
    }
   ],
   "source": [
    "#3.Determinar el área y volumen de un cilindro cuyas dimensiones (radio - altura) se lean\n",
    "#desde el teclado.\n",
    "\n",
    "radio = float(input(\"Ingrese el radio: \\n\" ))\n",
    "altura = float(input(\"Ingrese la altura: \\n\"))\n",
    "pi = 2.1416\n",
    "area = pi*radio*altura*2\n",
    "area = round(area,2)\n",
    "volumen = pi*(radio**2)*altura\n",
    "volumen = round(volumen,2)\n",
    "print(\"El área del cilindro es: \" + str(area) + \" m^3 \\n\" + \"y el volúmen del cilindro es: \" + str(volumen) + \" m^3 \\n\")"
   ]
  },
  {
   "cell_type": "code",
   "execution_count": 3,
   "metadata": {},
   "outputs": [
    {
     "name": "stdout",
     "output_type": "stream",
     "text": [
      "Introduzca m1 \n",
      "2\n",
      "Introduzca m2 \n",
      "2\n",
      "Introduzca d \n",
      "5\n",
      "0.106768\n"
     ]
    }
   ],
   "source": [
    "#4.\n",
    "m1 = float(input(\"Introduzca m1 \\n\"))\n",
    "m2 = float(input(\"Introduzca m2 \\n\"))\n",
    "d = float(input(\"Introduzca d \\n\"))\n",
    "G = 00000000.6673\n",
    "aux = G*m1*m2 \n",
    "F = aux/(d**2)\n",
    "print(F)"
   ]
  },
  {
   "cell_type": "code",
   "execution_count": 5,
   "metadata": {},
   "outputs": [
    {
     "name": "stdout",
     "output_type": "stream",
     "text": [
      "Introduzca m en gramos: \n",
      "1\n",
      "8.987554305625e+20 erg\n"
     ]
    }
   ],
   "source": [
    "#5.\n",
    "m = float(input(\"Introduzca m en gramos: \\n\"))\n",
    "c = 2.997925e10\n",
    "E = m*(c**2)\n",
    "E = round(E,2)\n",
    "print(str(E) + \" erg\")"
   ]
  },
  {
   "cell_type": "code",
   "execution_count": 11,
   "metadata": {},
   "outputs": [
    {
     "name": "stdout",
     "output_type": "stream",
     "text": [
      "Introduzca la hora 01:59\n",
      "1: 59 AM\n"
     ]
    }
   ],
   "source": [
    "#6.\n",
    "hr24 = input(\"Introduzca la hora \")\n",
    "if len(hr24) != 5:\n",
    "    print(\"Debe introducir solo 5 caracteres\")\n",
    "    \n",
    "else :\n",
    "    aux = hr24.split(\":\")\n",
    "    hora = int(aux[0])\n",
    "    minutos = int(aux[1])\n",
    "    if hora >= 0 and hora <= 11 and minutos >= 0 and minutos <= 59:\n",
    "        print(str(hora) + \": \" + str(minutos) + \" AM\")\n",
    "    elif  hora >= 12 and hora <= 23 and minutos >= 0 and minutos <= 59:\n",
    "        print(str(hora - 12) + \":\" + str(minutos) + \" PM\")\n",
    "    else:\n",
    "        print(\"Introduzaca una hora correcta\")\n",
    "        \n"
   ]
  },
  {
   "cell_type": "code",
   "execution_count": 39,
   "metadata": {},
   "outputs": [
    {
     "name": "stdout",
     "output_type": "stream",
     "text": [
      "Introduzca A: 2\n",
      "2 12 26 45\n",
      "\n"
     ]
    }
   ],
   "source": [
    "# 7. Leer un número A, evaluar sucesivamente las expresiones siguientes y desplegar los\n",
    "# resultados obtenidos en un archivo denominado “practica01.out”.\n",
    "A = int(input(\"Introduzca A: \"))\n",
    "B = A + 10\n",
    "C = (2 * B) + A\n",
    "D = A + B + C + 5\n",
    "res = str(A) + \" \" + str(B) + \" \" + str(C) + \" \" + str(D) + \"\\n\"\n",
    "print(res)\n",
    "file = open(\"practica01.txt\", \"a\")\n",
    "file.write(res)\n",
    "file.close()"
   ]
  },
  {
   "cell_type": "code",
   "execution_count": 40,
   "metadata": {},
   "outputs": [
    {
     "name": "stdout",
     "output_type": "stream",
     "text": [
      "Introduzca X: 2.65\n",
      "2.0 0.6499999999999999\n"
     ]
    }
   ],
   "source": [
    "#8. Hacer leer un número X de tipo decimal, hallar su valor absoluto y decimal, desplegar\n",
    "#el resultado dentro del archivo “practica01.out”.\n",
    "import math\n",
    "X = float(input(\"Introduzca X: \"))\n",
    "aux = math.modf(X)\n",
    "entera = aux[1]\n",
    "decimal = aux[0]\n",
    "print(entera,decimal)\n",
    "file = open(\"practica01.txt\", \"a\")\n",
    "file.write(str(X) + \"\\n\" + str(entera) + \"\\n\" + str(decimal) + \"\\n\")\n",
    "file.close()"
   ]
  },
  {
   "cell_type": "code",
   "execution_count": 42,
   "metadata": {},
   "outputs": [
    {
     "name": "stdout",
     "output_type": "stream",
     "text": [
      "Introduzca a: 5\n",
      "Introduzca b: 6\n",
      "Introduzca c: 2\n",
      "Introduzca d: 8\n"
     ]
    }
   ],
   "source": [
    "#9. Leer a, b, c y d, hallar el menor y mayor de los cuatro números, desplegar su resultado\n",
    "#en el archivo “practica01.out”.\n",
    "\n",
    "a = int(input(\"Introduzca a: \"))\n",
    "b = int(input(\"Introduzca b: \"))\n",
    "c = int(input(\"Introduzca c: \"))\n",
    "d = int(input(\"Introduzca d: \"))\n",
    "lista = [a,b,c,d]\n",
    "lista.sort()\n",
    "file = open(\"practica01.txt\", \"a\")\n",
    "file.write(str(lista) + \"\\n\")\n",
    "file.close()\n"
   ]
  },
  {
   "cell_type": "code",
   "execution_count": 44,
   "metadata": {},
   "outputs": [
    {
     "name": "stdout",
     "output_type": "stream",
     "text": [
      "Introduzca X: 56\n",
      "Introduzca Y: 2\n",
      "Introduzca Z: 1\n",
      "3141.0 3420.0\n"
     ]
    }
   ],
   "source": [
    "#10.Dado los valores de X, Y, Z, evaluar A = X^2+Y^2+Z^2. Si se cumple que, A<100 y Y<5\n",
    "#calcular B = (X+Y)^2 – X*Z, caso contrario calcular B = (X-Y)^2 + X*Z. Desplegar A y B\n",
    "#en el archivo “practica01.out”\n",
    "X = float(input(\"Introduzca X: \"))\n",
    "Y = float(input(\"Introduzca Y: \"))\n",
    "Z = float(input(\"Introduzca Z: \"))\n",
    "A = (X**2)+(Y**2)+(Z**2)\n",
    "if Y<5 and A<100:\n",
    "    B = ((X+Y)**2)-X*Z\n",
    "else:\n",
    "    B = ((X+Y)**2)+X*Z\n",
    "print(A,B)\n",
    "file = open(\"practica01.txt\", \"a\")\n",
    "file.write(str(A) + \", \" + str(B) + \"\\n\")\n",
    "file.close()"
   ]
  },
  {
   "cell_type": "code",
   "execution_count": null,
   "metadata": {},
   "outputs": [],
   "source": []
  }
 ],
 "metadata": {
  "kernelspec": {
   "display_name": "Python 3",
   "language": "python",
   "name": "python3"
  },
  "language_info": {
   "codemirror_mode": {
    "name": "ipython",
    "version": 3
   },
   "file_extension": ".py",
   "mimetype": "text/x-python",
   "name": "python",
   "nbconvert_exporter": "python",
   "pygments_lexer": "ipython3",
   "version": "3.7.4"
  }
 },
 "nbformat": 4,
 "nbformat_minor": 2
}
