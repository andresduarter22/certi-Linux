{
 "cells": [
  {
   "cell_type": "markdown",
   "metadata": {},
   "source": [
    "### Resolver con IF:\n",
    "1. Escribir un programa que determine si el año es bisiesto. Un año es bisiesto si es múltiplo de 4 (1988), excepto los múltiplos de 100 que no son bisiestos salvo que a su vez también sean múltiplos de 400 (1800no es bisiesto, 2000 sí)."
   ]
  },
  {
   "cell_type": "code",
   "execution_count": 3,
   "metadata": {},
   "outputs": [
    {
     "name": "stdout",
     "output_type": "stream",
     "text": [
      "Ingrese año: 2020\n",
      "2020 es un año bisiesto\n"
     ]
    }
   ],
   "source": [
    "year=int(input(\"Ingrese año: \"))\n",
    "if year%4==0:\n",
    "    if year%100!=0:\n",
    "        print(f\"{year} es un año bisiesto\")\n",
    "    else:\n",
    "        if year%400==0:\n",
    "            print(f\"{year} es un año bisiesto\")\n",
    "        else:\n",
    "            print(f\"{year} no es un año bisiesto\")\n",
    "else:\n",
    "    print(f\"{year} no es un año bisiesto\")"
   ]
  },
  {
   "cell_type": "markdown",
   "metadata": {},
   "source": [
    "2. Dado los valores de A, B, C que son los coeficientes de la ecuación de segundo grado,\n",
    "hallar sus raíces reales, desplegar los resultados.\n"
   ]
  },
  {
   "cell_type": "code",
   "execution_count": 5,
   "metadata": {},
   "outputs": [
    {
     "name": "stdout",
     "output_type": "stream",
     "text": [
      "Ingrese A: 26\n",
      "Ingrese B: 2\n",
      "Ingrese C: 0\n",
      "Las soluciones de la ecuación son: 0.0, -0.07692307692307693\n"
     ]
    }
   ],
   "source": [
    "from math import sqrt\n",
    "\n",
    "A=int(input(\"Ingrese A: \"))\n",
    "B=int(input(\"Ingrese B: \"))\n",
    "C=int(input(\"Ingrese C: \"))\n",
    "x1= 0\n",
    "x2= 0\n",
    "if ((B**2)-4*A*C) < 0:\n",
    "    print(\"La solución de la ecuación es con números complejos\")\n",
    "else:\n",
    "    x1 = (-B+sqrt(B**2-(4*A*C)))/(2*A)\n",
    "    x2 = (-B-sqrt(B**2-(4*A*C)))/(2*A)\n",
    "    print(f\"Las soluciones de la ecuación son: {x1}, {x2}\")"
   ]
  },
  {
   "cell_type": "markdown",
   "metadata": {},
   "source": [
    "# Resolver con WHILE:\n",
    "3. Dado dos valores A y B, realizar el producto de los dos números por sumas sucesivas, almacenar el resultado en una variable P, mostrar el resultado.\n"
   ]
  },
  {
   "cell_type": "code",
   "execution_count": 7,
   "metadata": {},
   "outputs": [
    {
     "name": "stdout",
     "output_type": "stream",
     "text": [
      "Ingrese A: 5\n",
      "Ingrese B: 5\n",
      "El resultado es: 25\n"
     ]
    }
   ],
   "source": [
    "A=int(input(\"Ingrese A: \"))\n",
    "B=int(input(\"Ingrese B: \"))\n",
    "P=0\n",
    "while B>0:\n",
    "    P=P+A\n",
    "    B-=1\n",
    "print(f\"El resultado es: {P}\")"
   ]
  },
  {
   "cell_type": "markdown",
   "metadata": {},
   "source": [
    "4. Dado un número X, determinar el número de dígitos del que esta compuesto y desplegar el resultado."
   ]
  },
  {
   "cell_type": "code",
   "execution_count": 9,
   "metadata": {},
   "outputs": [
    {
     "name": "stdout",
     "output_type": "stream",
     "text": [
      "Ingrese X: 15\n",
      "2\n"
     ]
    }
   ],
   "source": [
    "X=input(\"Ingrese X: \")\n",
    "print(len(X))"
   ]
  },
  {
   "cell_type": "markdown",
   "metadata": {},
   "source": [
    "5. Escribir un programa que calcule y visualice el más grande, el más pequeño y la media\n",
    "de N números. El valor de N se solicitará al principio del programa y los números\n",
    "serán introducidos por el usuario."
   ]
  },
  {
   "cell_type": "code",
   "execution_count": 12,
   "metadata": {},
   "outputs": [
    {
     "name": "stdout",
     "output_type": "stream",
     "text": [
      "Ingreese N 6\n",
      "Ingrese el valor1: 3\n",
      "Ingrese el valor2: 3\n",
      "Ingrese el valor3: 2\n",
      "Ingrese el valor4: 2\n",
      "Ingrese el valor5: 3\n",
      "Ingrese el valor6: 3\n",
      "El valor mas pequeño es 2, el valor maximo es 3 y la media es 2.6666666666666665\n"
     ]
    }
   ],
   "source": [
    "import statistics\n",
    "\n",
    "num=int(input(\"Ingreese N \"))\n",
    "if num>0:\n",
    "    aux=[]\n",
    "    for i in range(num):\n",
    "        item=int(input(\"Ingrese el valor\" + str(i+1)+\": \"))\n",
    "        aux.append(item)\n",
    "    print(f\"El valor mas pequeño es {min(aux)}, el valor maximo es {max(aux)} y la media es {statistics.mean(aux)}\")"
   ]
  },
  {
   "cell_type": "markdown",
   "metadata": {},
   "source": [
    "6. Dado dos números A y B enteros mayores a cero, hallar A^B por sumas. Desplegar los\n",
    "números y el resultado."
   ]
  },
  {
   "cell_type": "code",
   "execution_count": 36,
   "metadata": {
    "scrolled": false
   },
   "outputs": [
    {
     "name": "stdout",
     "output_type": "stream",
     "text": [
      "Ingrese A: 5\n",
      "Ingrese B: 10\n",
      "La lista de nuemros es: [5, 25, 125, 625, 3125, 15625, 78125, 390625, 1953125, 9765625] y el resultado es: 9765625\n"
     ]
    }
   ],
   "source": [
    "def multi(n,i):\n",
    "    P=0\n",
    "    while i>0:\n",
    "        P=P+n\n",
    "        i-=1\n",
    "    return P\n",
    "\n",
    "A=int(input(\"Ingrese A: \"))\n",
    "B=int(input(\"Ingrese B: \"))\n",
    "aux=1\n",
    "lista=[]\n",
    "while B>0:\n",
    "    aux=multi(A,aux)\n",
    "    lista.append(aux)\n",
    "    B-=1\n",
    "print(f\"La lista de nuemros es: {lista} y el resultado es: {aux}\")"
   ]
  },
  {
   "cell_type": "markdown",
   "metadata": {},
   "source": [
    "# Resolver con FOR:\n",
    "\n",
    "7. La constante pi (3.1441592…) es muy utilizada en matemáticas. Un método sencillo de calcular su valor es:\n",
    "\n",
    "<img src=1.jpg align=left>\n",
    "<br>\n",
    "<br>\n",
    "<br>\n",
    "<br>\n",
    "\n",
    "Escribir un programa que efectúe este cálculo con un número de términos\n",
    "especificando por el usuario."
   ]
  },
  {
   "cell_type": "code",
   "execution_count": 51,
   "metadata": {
    "scrolled": false
   },
   "outputs": [
    {
     "name": "stdout",
     "output_type": "stream",
     "text": [
      "Introduzca cantidad de iteraciones: 5000\n",
      "3.14127857284697509812982531255880608487335775272923132794129323239415283056923504566440744105014220079905543380498409107668853891170318030954190921096694643359709062862486683953130597273607127219580214116268019766949095998104217035806247206483789357899682281331311058222705134681918738176128382307006025588523097664894418332784034257587305281724394803093815962549115747328145903576762356864430963358692416766123834860124383781737604261398518519831641309494166671199588097377925822491662633439494471478713220078639583710125312084724760989295668451650011366783826449144997164761217940360728205993115894153675004027311386417606596915462389403887267577735473619307074247174054777605917837949767883169699965118205031123426418476641545685086909501202287440216455451125243602715253577316127460817123971883846182666945787197159997668064982853301122321629482984316690619279968962061722787828861728596139294974397327319886032030697207399674717440967088894974158024622054335695050864409275119526936075308353052214954014012374091419748066512501395431293915607374681664879247279755449353432303304318595468752907343606606185166220036945301222250768069938912050575865534829064299001034888596523136251146274156190429016437803625956079047203254068520806850905333883050759483544499178573498929433303038901168743875100547271434844677267464417390919956626736881092735408041174095380940278802533863530827947997605103900257480380789372740344743403425967601634032860219058300034020791924213919709892237090509772671615493385641653147452162387769041938230921124892632812586926566933013276254581412514539760555425796493087381418275777765443916646803280681952762642191194929043350137209459499242345051969644152433325952134821192369801614231856111170175049109857001450714661761729102874129697948281646968144955347818386332186188623421561924991021409776781327399248693674934840411775021966488628569348023600646199103734082324402061074552190255592971388223801970043779013763868844841680900885527083012624352245828572582726192683754255657440017144778733799233198835409607634935294219203457057252609414978064447750085982852400861860597185660774316242847062670566418485942260458777418840081765101019323077074497885406430768039223378950186373916202885091046972856025851751389678209770042660710548003177863992236175485530484970461239980340433745039714841647748113385395558602719315433270735980360783326001426655977581211370543501768994680052504956396321120806611484277584594037855858007451950380265360157176859236405395432603238956719313860292899613143018994582873755934978859211648855865948258835767216003757166533243938585528687597842458734206601252586254749367925512098648735762340105476366573295946027801198977138047011973940497279186806541569400730856643003542511147251122443104997075107733039761990370473617271353757293464397345785303003500071335513229028285601731295037960541511579617188053091691269497142502526057367469431390875629715698114654679976156623618344226343740848211238676519246232290318124568513146900792397959584962591284903698687795416917514865821638896034337607542648054848163610845811807054785358828611088437056013581110598053426230169835654520136168734677268927759594465591605697811619511034571467414308904824522986365780980137371750973600547794999228167682661211427427444915540542656179088974262997035939650584391563417105195956127138721975624266740872026779187292104967154361883552001067461216547547738439933040055148729045245896035709031829632726338405848482732465125110861390208957850532392271761196218587770477796649881131281593918673758443847395998775122868357301776308079842669618500710169269723315656913763708761603990362009170138968983974709549525983563505985447780018021987958847370676088119215763908809549069572459234582065333958312582200620249333642642330359755181882593252712477889599121014894652364971789784763972378603670594519435632911917397288301602663228939506335435671309931687133870853435937826420125570878104661990435642269381634025226966201088230581745719768709090289480503315538815181630067492156453889354716010752298136817506299137118499977166138571542191646967211559220874166605547538496831576471062353290495932595986744059874851402043933983383521895849202397700531819955431558360812586188629943003266235560923906463253848566079248880621231969694229636700603524551573592896096928635969074992742835364306380917079065277052217397235867442601156617163428363504375610107764236424034099185982997648197708123888312774585990065206466013026841003438883934734028022772621859913854057251946262558093225307404338188915871458959405942042068904104603313525438295964812984522075351550789093598889145893767563260608153227120670105927410765416481162495150911773283202623468960217718284089249339700812182929149385545651466498712966048881875735662997099357391054024578671338383379960791147251654137693798976075086038488245496583479552580535434877608310722373794212250071920933980394787508852740503416555396230526934809597108269207619853095971718671976316166680089443227079232590816152499900355377044007817\n"
     ]
    }
   ],
   "source": [
    "from decimal import *\n",
    "\n",
    "cantidad=int(input(\"Introduzca cantidad de iteraciones: \"))\n",
    "if cantidad>0:\n",
    "    numCount,denCount,num,den,res=1,2,2,1,2\n",
    "    getcontext().prec = cantidad + 1\n",
    "    for i in range(cantidad):\n",
    "        res=res*(Decimal(num)/Decimal(den))\n",
    "        if numCount==2:\n",
    "            num+=2\n",
    "            numCount=0\n",
    "        if denCount==2:\n",
    "            den+=2\n",
    "            denCount=0\n",
    "        numCount+=1\n",
    "        denCount+=1\n",
    "    print(res)\n",
    "else:\n",
    "    print(\"La cantidad de iteraciones debe ser mayor a 1\")"
   ]
  },
  {
   "cell_type": "markdown",
   "metadata": {},
   "source": [
    "8. El valor de e^x se puede aproximar por la suma:\n",
    "\n",
    "<img src=2.jpg align=left>\n",
    "<br>\n",
    "<br>\n",
    "<br>\n",
    "<br>\n",
    "\n",
    "Escribir un programa que tome un valor de x como entrada y visualice la suma para\n",
    "cada uno de los valores de 1 a 100."
   ]
  },
  {
   "cell_type": "code",
   "execution_count": 44,
   "metadata": {},
   "outputs": [
    {
     "name": "stdout",
     "output_type": "stream",
     "text": [
      "Ingrese X: 5\n",
      "El resultado es: 148.41315910257657\n"
     ]
    }
   ],
   "source": [
    "def fact(n):\n",
    "    count=1\n",
    "    res=1\n",
    "    while count<=n:\n",
    "        res=res*count\n",
    "        count+=1\n",
    "    return int(res)\n",
    "    \n",
    "\n",
    "X=int(input(\"Ingrese X: \"))\n",
    "count=2\n",
    "lista=[]\n",
    "res=1+X\n",
    "for i in range(1,101):\n",
    "    res=res+((X**count)/fact(count))\n",
    "    count+=1\n",
    "print(f\"El resultado es: {res}\")"
   ]
  },
  {
   "cell_type": "markdown",
   "metadata": {},
   "source": [
    "# USO DE LISTAS ANIDADAS:\n",
    "9. Calcular la suma de todos los elementos de un vector, así como la media aritmética.\n"
   ]
  },
  {
   "cell_type": "code",
   "execution_count": 53,
   "metadata": {},
   "outputs": [
    {
     "name": "stdout",
     "output_type": "stream",
     "text": [
      "Introduzca la cantidad de valores que desee dentro del vector, para dejar de introducirlos presione enter sin escribir nada\n",
      "Introduzca un valor: 5\n",
      "Introduzca un valor: 5\n",
      "Introduzca un valor: 6\n",
      "Introduzca un valor: 6\n",
      "Introduzca un valor: \n",
      "La suma es: 22 y la media aritmetica es: 5.5\n"
     ]
    }
   ],
   "source": [
    "vector=[]\n",
    "print(\"Introduzca la cantidad de valores que desee dentro del vector, para dejar de introducirlos presione enter sin escribir nada\")\n",
    "suma=1\n",
    "while suma==1:\n",
    "    val=input(\"Introduzca un valor: \")\n",
    "    if not val==\"\":\n",
    "        vector.append(int(val))\n",
    "    else:\n",
    "        suma=0\n",
    "lenght=len(vector)\n",
    "for i in range(lenght):\n",
    "    suma=suma+vector[i]\n",
    "media=suma/lenght\n",
    "print(f\"La suma es: {suma} y la media aritmetica es: {media}\")"
   ]
  },
  {
   "cell_type": "markdown",
   "metadata": {},
   "source": [
    "10. Multiplicar dos matrices."
   ]
  },
  {
   "cell_type": "code",
   "execution_count": 29,
   "metadata": {},
   "outputs": [
    {
     "name": "stdout",
     "output_type": "stream",
     "text": [
      "Ingrese la cantidad de filas de la primera matriz: 3\n",
      "Ingrese la cantidad de columnas de la primera matriz: 2\n",
      "Ingrese la cantidad de filas de la segunda matriz: 2\n",
      "Ingrese la cantidad de columnas de la segunda matriz: 3\n",
      "Introduce el numero en la posicion [0, 0] de la primera matriz: 1\n",
      "Introduce el numero en la posicion [0, 1] de la primera matriz: 2\n",
      "Introduce el numero en la posicion [1, 0] de la primera matriz: 3\n",
      "Introduce el numero en la posicion [1, 1] de la primera matriz: 4\n",
      "Introduce el numero en la posicion [2, 0] de la primera matriz: 5\n",
      "Introduce el numero en la posicion [2, 1] de la primera matriz: 6\n",
      "Introduce el numero en la posicion [0, 0] de la segunda matriz: 7\n",
      "Introduce el numero en la posicion [0, 1] de la segunda matriz: 8\n",
      "Introduce el numero en la posicion [0, 2] de la segunda matriz: 9\n",
      "Introduce el numero en la posicion [1, 0] de la segunda matriz: 1\n",
      "Introduce el numero en la posicion [1, 1] de la segunda matriz: 2\n",
      "Introduce el numero en la posicion [1, 2] de la segunda matriz: 3\n",
      "[[9, 12, 15], [25, 32, 39], [41, 52, 63]]\n"
     ]
    }
   ],
   "source": [
    "row1 = int(input(\"Ingrese la cantidad de filas de la primera matriz: \"))\n",
    "col1 = int(input(\"Ingrese la cantidad de columnas de la primera matriz: \"))\n",
    "\n",
    "row2 = int(input(\"Ingrese la cantidad de filas de la segunda matriz: \"))\n",
    "col2 = int(input(\"Ingrese la cantidad de columnas de la segunda matriz: \"))\n",
    "\n",
    "if row1==col2:\n",
    "    matrix1 = [[0 for j in range(col1)] for i in range(row1)]\n",
    "    for i in range(row1):\n",
    "        for j in range(col1):\n",
    "            matrix1[i][j]=int(input(\"Introduce el numero en la posicion [\"+ str(i) + \", \" + str(j) + \"] de la primera matriz: \"))\n",
    "\n",
    "\n",
    "\n",
    "    matrix2 = [[0 for j in range(col2)] for i in range(row2)]\n",
    "    for i in range(row2):\n",
    "        for j in range(col2):\n",
    "            matrix2[i][j]=int(input(\"Introduce el numero en la posicion [\"+ str(i) + \", \" + str(j) + \"] de la segunda matriz: \"))\n",
    "\n",
    "\n",
    "    res = [[0 for j in range(col2)] for i in range(row1)]\n",
    "\n",
    "    for i in range(row1):\n",
    "        for j in range(col2):\n",
    "            for k in range(row2):\n",
    "                res[i][j] += matrix1[i][k] * matrix2[k][j]\n",
    "    print(res)\n",
    "else:\n",
    "    print(\"La cantidad de filas de la prima matriz debe ser igual a la cantidad de columnas de la segunda matriz, Intentelo denuevo.\")"
   ]
  },
  {
   "cell_type": "code",
   "execution_count": null,
   "metadata": {},
   "outputs": [],
   "source": []
  }
 ],
 "metadata": {
  "kernelspec": {
   "display_name": "Python 3",
   "language": "python",
   "name": "python3"
  },
  "language_info": {
   "codemirror_mode": {
    "name": "ipython",
    "version": 3
   },
   "file_extension": ".py",
   "mimetype": "text/x-python",
   "name": "python",
   "nbconvert_exporter": "python",
   "pygments_lexer": "ipython3",
   "version": "3.7.4"
  }
 },
 "nbformat": 4,
 "nbformat_minor": 2
}
